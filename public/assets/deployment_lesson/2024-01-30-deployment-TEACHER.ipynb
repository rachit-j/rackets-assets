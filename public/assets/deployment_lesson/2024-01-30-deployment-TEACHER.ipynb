{
 "cells": [
  {
   "cell_type": "markdown",
   "metadata": {},
   "source": [
    "# Deployment\n",
    "\n",
    "Ever wonder why you cannot use your really cool dynamic API page to transfer and store data?\n",
    "\n",
    "It obviously works on localhost, but you cannot access it from anywhere else. The address is also in some *stupid* (not really) form. Let's change that!"
   ]
  },
  {
   "cell_type": "markdown",
   "metadata": {},
   "source": [
    "## Accessing AWS Instances\n",
    "\n",
    "Really nothing here ot be concerned about."
   ]
  },
  {
   "cell_type": "markdown",
   "metadata": {},
   "source": [
    "## Launching an Instance (Done for you)\n",
    "\n",
    "If they ask for examples, give Kali linux as one for penetration and development testing, while ubuntu w/gui can be used as a versitile client. Ubuntu server has the GUI removed and is solely dedicated for developer and hosting options.\n"
   ]
  },
  {
   "cell_type": "markdown",
   "metadata": {},
   "source": [
    "## Connect to an Instance\n",
    "\n",
    "How tf do you have questions here"
   ]
  },
  {
   "cell_type": "markdown",
   "metadata": {},
   "source": [
    "## Configuring an Instance (Done for you)\n",
    "\n",
    "Read the comments"
   ]
  },
  {
   "cell_type": "code",
   "execution_count": null,
   "metadata": {},
   "outputs": [],
   "source": [
    "%%bash\n",
    "\n",
    "cd /\n",
    "\n",
    "sudo -s # Log into superuser\n",
    "apt-get update # Update APT repository list (knows what packages are on the web)\n",
    "# APT can be reconfigured through commands and sources.list but don't mess with it unless you know what you are doing, or you may break it\n",
    "\n",
    "apt-get install docker docker-compose nginx git -y # install docker-compose for docker, the nginx server that our api's will run on, and git \n",
    "# Technically git is already installed but for the purpose of the script we check\n",
    "snap install certbot --classic # SNAP adds the 'classic' flag to warn you about risks. You place the flag to accept them.\n",
    "# Cerbot uses SNAP because it is depricated on APT \n",
    "\n",
    "# Now we can organize our server with a designated deployments folder\n",
    "mkdir deployments\n",
    "\n",
    "# Now we configure the firewall\n",
    "ufw allow openssh # Allow SSH Access\n",
    "ufw allow 'Nginx Full' # Allow full Nginx access\n",
    "ufw delete allow 'Nginx HTTP' # This does not exist but we check to make sure there are no conflicting rules\n",
    "ufw enable # Turn on the firewall (off by default)\n",
    "\n",
    "# To test if the server is working\n",
    "curl localhost"
   ]
  },
  {
   "cell_type": "markdown",
   "metadata": {},
   "source": [
    "## Adding Websites, Part 1: Onto EC2\n",
    "\n",
    "Read comments"
   ]
  },
  {
   "cell_type": "code",
   "execution_count": null,
   "metadata": {},
   "outputs": [],
   "source": [
    "%%bash\n",
    "\n",
    "# Get backend in right spot\n",
    "cd /deployments \n",
    "git clone {mybackend.git}\n",
    "cd {mybackend}\n",
    "\n",
    "# Build and test backend\n",
    "docker-compose up -d --build\n",
    "curl localhost:{configured_port} # PORTS MUST NOT OVERLAP\n",
    "\n",
    "# Checkpoint -- does the backend work?\n",
    "# put exact all caps YES to proceed or else the script will exit (safety)\n",
    "echo -n \"CHECKPOINT. Does the curl command return the right page? YES/NO: \" \n",
    "read checkpoint\n",
    "if [checkpoint == \"YES\"]; then\n",
    "    # In future scripts, we will not exit here, but assuming we have done R53 we will continue\n",
    "    echo \"CHECKPOINT PASSED. Proceed.\"\n",
    "    exit 0 # This will exit without displaying the output as an error\n",
    "else\n",
    "    echo \"CHECKPOINT FAILED. Must fix issues.\"\n",
    "    exit 1 # This will exit while displaying the output as an error\n",
    "fi"
   ]
  },
  {
   "cell_type": "markdown",
   "metadata": {},
   "source": [
    "## Adding Websites, Part 2: Route 53\n",
    "\n",
    "*You should get the IP address of your instance and save it somewhere before this. You will see why soon.*\n",
    "\n",
    "DNS Resolution - Rachit can cover this in a simplified way.\n",
    "\n",
    "We use domain names to point text towards our IP's that are hosting our servers. The process is called DNS resolution.\n",
    "![AWS DNS](https://d1.awsstatic.com/Route53/how-route-53-routes-traffic.8d313c7da075c3c7303aaef32e89b5d0b7885e7c.png)\n",
    "*Taken from AWS*\n",
    "If you have any further questions about DNS, consult this link (and do some Googling y'all have it in you) before asking us (if a lot of people ask we will give an explanation of DNS in a blog): [AWS DNS Explanation](https://aws.amazon.com/route53/what-is-dns/)."
   ]
  },
  {
   "cell_type": "markdown",
   "metadata": {},
   "source": [
    "## Nginx stuff (Part 3)\n",
    "**A quick explanation:** the nginx block is the configuration that links nginx to your docker process using a reverse proxy to forward the configured domain to the configured port. For CORS Headers, there are two modes: simple requests and preflighted requests. Simple requests are requests that have no implications and are not dangerous for the user or for the server, or simple data. Preflighted requests handle more complex and sensitive data, where the browser first sends a request through the OPTIONS method, and then the server responds to determine if the request is safe to proceed.\n",
    "\n",
    "There are two directives to this example: server_name and proxy_pass. \n",
    "\n",
    "server_name basically links the domain name to nginx for the server configuration. proxy_pass will then forward the requests made to the server with the \"tag\" for the domain name to the proxy_pass, which is the address for the localhost backend server corresponding to the domain name with server_name.\n",
    "\n",
    "Take it as nginx forwarding the domain to the port, acting as an intermediary, or the middle man.\n",
    "\n",
    "![Drawing](https://rackets-assets.vercel.app/assets/deployment_lesson/Drawing.png)"
   ]
  },
  {
   "cell_type": "markdown",
   "metadata": {},
   "source": [
    "## Certbot Configuration\n",
    "\n",
    "Certbot configuration is important because it gives us an SSL certificate, which allows our browser to trust our site. It keeps user data secure, verifies ownership of the website, prevents attackers from creating a fake version of the site, and conveys trust to users.\n",
    "\n",
    "![SSL Explanation](https://www.hostinger.com/tutorials/wp-content/uploads/sites/2/2022/01/how-SSL-certificates-work-dark.webp)\n",
    "*borrowed from hostinger*\n",
    "\n",
    "Its like getting a certificate for an award. You can trust the certificate. \n"
   ]
  },
  {
   "cell_type": "markdown",
   "metadata": {},
   "source": [
    "## Deployment Updates\n",
    "\n",
    "On your localhost, you should test your deployment by running:\n",
    "1. ```docker-compose down``` - Take down docker server so nothing breaks and it can recompile\n",
    "2. ```docker-compose up -d --build``` - Rebuild Docker\n",
    "\n",
    "Optional step between steps 1 & 2: ```./mvnw clean``` - Cleans maven\n",
    "\n",
    "On EC2, update your deployment with the following commands:\n",
    "1. ```docker-compose down``` - Take down docker server so nothing breaks and it can recompile\n",
    "2. ```git pull``` - Fetch Latest Data\n",
    "3. ```./mvnw clean``` - Clean Maven (optional but recommended)\n",
    "4. ```docker-compose up -d --build``` - Rebuild docker\n",
    "5. IF no changes are shown, run ```service nginx restart```\n"
   ]
  },
  {
   "cell_type": "markdown",
   "metadata": {},
   "source": [
    "## Troubleshooting\n",
    "- ```curl localhost:{some port}``` (is this my page?)\n",
    "- ```docker-compose ps``` (is my docker good?)\n",
    "- ```docker ps``` (is everything okay?)"
   ]
  },
  {
   "cell_type": "markdown",
   "metadata": {},
   "source": [
    "## Suggestions and Closure\n",
    "\n",
    "As you may have noticed, many of these things can be automated. Our team has automated many of these processes, and we encourage you to do the same. We will be posting our scripts through our blogs after a two days or so for you to learn how to deploy, and we will let you know when we do so. We encourage you to make your own to speed up the deployment process.\n",
    "\n",
    "We have created a new CSA server for everyone to deploy on because we do not want 60 instances. The framework and guidelines for using the instance are below, as well as on a seperate blog. \n",
    "\n",
    "If you have any questions, please message us on slack, ask chatgpt, or google the question. We will be blogging and maintaing the CSA server, just please don't destroy it. \n",
    "\n",
    "PS. We understand we can automate deployment updates through cron jobs and stuff. Shoot us a message if you have cool ideas or would like to help us impliment these."
   ]
  },
  {
   "cell_type": "markdown",
   "metadata": {},
   "source": [
    "## Framework of the CSA Server\n",
    "\n",
    "- Put all your deployed websites into ```/deployments``` (you will see ww3 there)\n",
    "- Don't mess with the ```/riftdev``` directory\n",
    "- Don't do something you will regret\n",
    "- Don't mess with other people's stuff\n",
    "- Don't crash the server and forget to tell us (PLEASE TELL US)"
   ]
  }
 ],
 "metadata": {
  "kernelspec": {
   "display_name": "Python 3",
   "language": "python",
   "name": "python3"
  },
  "language_info": {
   "codemirror_mode": {
    "name": "ipython",
    "version": 3
   },
   "file_extension": ".py",
   "mimetype": "text/x-python",
   "name": "python",
   "nbconvert_exporter": "python",
   "pygments_lexer": "ipython3",
   "version": "3.10.4"
  },
  "polyglot_notebook": {
   "kernelInfo": {
    "defaultKernelName": "csharp",
    "items": [
     {
      "aliases": [],
      "name": "csharp"
     }
    ]
   }
  }
 },
 "nbformat": 4,
 "nbformat_minor": 2
}
